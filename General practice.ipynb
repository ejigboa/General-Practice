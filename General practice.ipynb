{
 "cells": [
  {
   "cell_type": "code",
   "execution_count": 3,
   "id": "c4f96de3",
   "metadata": {},
   "outputs": [],
   "source": [
    "import scipy as sp\n",
    "import pandas as pd\n",
    "import numpy as np\n",
    "from numpy import pi\n",
    "from scipy import *\n",
    "from matplotlib.pyplot import *\n",
    "from scipy.linalg import *\n",
    "from numpy.linalg import *\n",
    "import scipy.sparse as sparse\n",
    "from scipy.sparse.linalg import splu\n",
    "from timeit import default_timer as timer\n",
    "import AYOR as ay\n",
    "\n"
   ]
  },
  {
   "cell_type": "markdown",
   "id": "671a9ec2",
   "metadata": {},
   "source": [
    "#### To measure the digits of accuracy"
   ]
  },
  {
   "cell_type": "code",
   "execution_count": 16,
   "id": "03682ebc",
   "metadata": {},
   "outputs": [],
   "source": [
    "##-np.log10(abs(x_computed-x_exact)/x_computed)"
   ]
  },
  {
   "cell_type": "code",
   "execution_count": 17,
   "id": "30493d2a",
   "metadata": {},
   "outputs": [
    {
     "data": {
      "text/plain": [
       "array([ 1, -1,  0,  1, -1])"
      ]
     },
     "execution_count": 17,
     "metadata": {},
     "output_type": "execute_result"
    }
   ],
   "source": [
    "m = np.array([10,-32,0,3,-21])\n",
    "np.sign(m)\n",
    "##help(np.sign)"
   ]
  },
  {
   "cell_type": "markdown",
   "id": "3736a668",
   "metadata": {},
   "source": [
    "$$\n",
    "Horner's Rule\n",
    "$$\n",
    "$$\n",
    "Polynomial\n",
    "$$"
   ]
  },
  {
   "cell_type": "code",
   "execution_count": 18,
   "id": "197484b6",
   "metadata": {},
   "outputs": [],
   "source": [
    "c = [i for i in range(10)]##"
   ]
  },
  {
   "cell_type": "code",
   "execution_count": 19,
   "id": "59e140dd",
   "metadata": {},
   "outputs": [
    {
     "data": {
      "text/plain": [
       "757"
      ]
     },
     "execution_count": 19,
     "metadata": {},
     "output_type": "execute_result"
    }
   ],
   "source": [
    "ay.horner(c,2)"
   ]
  },
  {
   "cell_type": "code",
   "execution_count": 5,
   "id": "f17b43d0",
   "metadata": {},
   "outputs": [
    {
     "data": {
      "text/plain": [
       "array([  1.,  -8.,   6.,  44., -43., -36.,  36.])"
      ]
     },
     "execution_count": 5,
     "metadata": {},
     "output_type": "execute_result"
    }
   ],
   "source": [
    "#Given the roots r, To get the coefficient of a polynomial\n",
    "r = np.array([-2.0,-1,1,1,3,6])\n",
    "c = np.poly(r)\n",
    "c\n"
   ]
  },
  {
   "cell_type": "code",
   "execution_count": 6,
   "id": "e8a0c7d7",
   "metadata": {},
   "outputs": [
    {
     "data": {
      "text/plain": [
       "poly1d([  1.,  -8.,   6.,  44., -43., -36.,  36.])"
      ]
     },
     "execution_count": 6,
     "metadata": {},
     "output_type": "execute_result"
    }
   ],
   "source": [
    "c_co = np.poly1d(c)\n",
    "#Given the coefficient of a polynomial,to get the roots\n",
    "r_comp = np.sort(c_co.roots)\n",
    "c_co"
   ]
  },
  {
   "cell_type": "code",
   "execution_count": 7,
   "id": "4b9cbebc",
   "metadata": {},
   "outputs": [
    {
     "data": {
      "text/plain": [
       "array([-2.        , -1.        ,  0.99999999,  1.00000001,  3.        ,\n",
       "        6.        ])"
      ]
     },
     "execution_count": 7,
     "metadata": {},
     "output_type": "execute_result"
    }
   ],
   "source": [
    "r_comp"
   ]
  },
  {
   "cell_type": "code",
   "execution_count": 8,
   "id": "2018376e",
   "metadata": {},
   "outputs": [
    {
     "data": {
      "text/plain": [
       "array([  1.,  -8.,   6.,  44., -43., -36.,  36.])"
      ]
     },
     "execution_count": 8,
     "metadata": {},
     "output_type": "execute_result"
    }
   ],
   "source": [
    "c_comp = np.poly(r_comp)\n",
    "c_comp"
   ]
  },
  {
   "cell_type": "code",
   "execution_count": 11,
   "id": "06325166",
   "metadata": {},
   "outputs": [],
   "source": [
    "###-np.log10(abs(c_comp-c_co)/c_comp)"
   ]
  },
  {
   "cell_type": "code",
   "execution_count": 88,
   "id": "af926c8b",
   "metadata": {},
   "outputs": [
    {
     "data": {
      "text/plain": [
       "(3.0, -1.0)"
      ]
     },
     "execution_count": 88,
     "metadata": {},
     "output_type": "execute_result"
    }
   ],
   "source": [
    "ay.quad( 1,-2,-3)"
   ]
  },
  {
   "cell_type": "markdown",
   "id": "437409f8",
   "metadata": {},
   "source": [
    "##### Forward error is the difference between the exact solution or roots and the computed solution ( F(x)) OR the distance between the input the data\n",
    "\n",
    "\n",
    "##### Backward error is  difference between the exact x value and the computed x OR the distance between the out the data"
   ]
  },
  {
   "cell_type": "markdown",
   "id": "8b072337",
   "metadata": {},
   "source": [
    "$$\n",
    "f_e = \\frac{|f(x) - fcal(x)|}{|f(x)|}\n",
    "$$\n",
    "\n",
    "\n",
    "$$\n",
    "b_e = \\frac{|x- xcal|}{|x|}\n",
    "$$"
   ]
  },
  {
   "cell_type": "markdown",
   "id": "59148f87",
   "metadata": {},
   "source": [
    "A problem is said to be well conditioned if small change in the input lead to small change in the output.\n",
    "#### Interpolating polynomial\n",
    "To turn t values, years into vander matrix"
   ]
  },
  {
   "cell_type": "code",
   "execution_count": 25,
   "id": "61b893f2",
   "metadata": {},
   "outputs": [
    {
     "data": {
      "text/plain": [
       "array([[  1,   1,   1,   1,   1],\n",
       "       [ 16,   8,   4,   2,   1],\n",
       "       [ 81,  27,   9,   3,   1],\n",
       "       [256,  64,  16,   4,   1],\n",
       "       [625, 125,  25,   5,   1]])"
      ]
     },
     "execution_count": 25,
     "metadata": {},
     "output_type": "execute_result"
    }
   ],
   "source": [
    "t = np.array([1,2,3,4,5])\n",
    "V = np.vander(t)\n",
    "V"
   ]
  },
  {
   "cell_type": "code",
   "execution_count": 28,
   "id": "a9b47449",
   "metadata": {},
   "outputs": [
    {
     "data": {
      "text/plain": [
       "array([-9.25185854e-19, -8.32667268e-18,  1.31376391e-16,  1.00000000e+00,\n",
       "        1.66533454e-16])"
      ]
     },
     "execution_count": 28,
     "metadata": {},
     "output_type": "execute_result"
    }
   ],
   "source": [
    "c = solve(V,t) \n",
    "c\n",
    "#to solve for the constant\n",
    "#construct a polynomisl with the constants\n"
   ]
  },
  {
   "cell_type": "markdown",
   "id": "0503ba21",
   "metadata": {},
   "source": [
    "To get the shape of a matrix A\n",
    "\n",
    "$A.shape$\n",
    "\n",
    "You can concatenate 2 arrays using \n",
    "$np.hstack([A,A])$ ...for rows\n",
    "$np.vstack([A,A])$ ...for coloumns\n"
   ]
  },
  {
   "cell_type": "code",
   "execution_count": 29,
   "id": "c6c8ae71",
   "metadata": {},
   "outputs": [
    {
     "data": {
      "text/plain": [
       "array([[  931.      ,  2967.5625  ,  4448.375   ,  5165.6875  ,\n",
       "         6681.      ],\n",
       "       [  694.      ,  2228.6875  ,  3356.125   ,  3957.0625  ,\n",
       "         5098.      ],\n",
       "       [  552.      ,  1759.5     ,  2638.      ,  3068.5     ,\n",
       "         3966.      ],\n",
       "       [ 1973.25    ,  6289.734375,  9426.90625 , 10932.953125,\n",
       "        14147.25    ],\n",
       "       [  727.      ,  2275.      ,  3389.      ,  3971.      ,\n",
       "         5089.      ]])"
      ]
     },
     "execution_count": 29,
     "metadata": {},
     "output_type": "execute_result"
    }
   ],
   "source": [
    "A =  np.array([list(np.arange(1,10,2)),[3,5,4,5,2],[1,2,3,4,5],list(np.linspace(1,20,5)),[1,4,6,4,7]])\n",
    "A@A@A"
   ]
  },
  {
   "cell_type": "markdown",
   "id": "4f920951",
   "metadata": {},
   "source": [
    "$C^T.C$ the transpose of C"
   ]
  },
  {
   "cell_type": "code",
   "execution_count": 32,
   "id": "b3627fc8",
   "metadata": {},
   "outputs": [],
   "source": [
    "AAA =3333"
   ]
  },
  {
   "cell_type": "code",
   "execution_count": 33,
   "id": "ed647575",
   "metadata": {},
   "outputs": [
    {
     "data": {
      "text/plain": [
       "array([[  6642.875    ,  23618.40625  ,  37770.9375   ,  49787.46875  ,\n",
       "         63493.       ],\n",
       "       [ 23618.40625  ,  85149.1796875, 137005.453125 , 180886.7265625,\n",
       "        231445.       ],\n",
       "       [ 37770.9375   , 137005.453125 , 221028.96875  , 292046.484375 ,\n",
       "        374196.       ],\n",
       "       [ 49787.46875  , 180886.7265625, 292046.484375 , 386077.2421875,\n",
       "        494809.       ],\n",
       "       [ 63493.       , 231445.       , 374196.       , 494809.       ,\n",
       "        634666.       ]])"
      ]
     },
     "execution_count": 33,
     "metadata": {},
     "output_type": "execute_result"
    }
   ],
   "source": [
    "K = A.T@A\n",
    "K@K"
   ]
  },
  {
   "cell_type": "markdown",
   "id": "fd5a8987",
   "metadata": {},
   "source": [
    "To pick rows and coloumns $A[a:b, c:d]   slicing$\n",
    "\n",
    "$B[start:stop:step]$"
   ]
  },
  {
   "cell_type": "code",
   "execution_count": 69,
   "id": "3da730a4",
   "metadata": {},
   "outputs": [
    {
     "data": {
      "text/plain": [
       "array([[ 47., 190., 320., 426., 559.]])"
      ]
     },
     "execution_count": 69,
     "metadata": {},
     "output_type": "execute_result"
    }
   ],
   "source": [
    "K[:1:-3]"
   ]
  },
  {
   "cell_type": "code",
   "execution_count": 73,
   "id": "e5effcc3",
   "metadata": {},
   "outputs": [
    {
     "data": {
      "text/plain": [
       "array([[ 45.25  ,  47.    ],\n",
       "       [157.6875, 190.    ],\n",
       "       [251.125 , 320.    ],\n",
       "       [338.5625, 426.    ],\n",
       "       [426.    , 559.    ]])"
      ]
     },
     "execution_count": 73,
     "metadata": {},
     "output_type": "execute_result"
    }
   ],
   "source": [
    "K[::,3:]"
   ]
  },
  {
   "cell_type": "markdown",
   "id": "93279dd6",
   "metadata": {},
   "source": [
    "to create a diagonal mitrix"
   ]
  },
  {
   "cell_type": "code",
   "execution_count": 86,
   "id": "1584b376",
   "metadata": {},
   "outputs": [
    {
     "data": {
      "text/plain": [
       "array([[1., 0., 0., 0., 0.],\n",
       "       [0., 1., 0., 0., 0.],\n",
       "       [0., 0., 1., 0., 0.],\n",
       "       [0., 0., 0., 1., 0.],\n",
       "       [0., 0., 0., 0., 1.]])"
      ]
     },
     "execution_count": 86,
     "metadata": {},
     "output_type": "execute_result"
    }
   ],
   "source": [
    "#D =np.diag([1,2,3,4,5])\n",
    "I = np.identity(5)\n",
    "I"
   ]
  },
  {
   "cell_type": "code",
   "execution_count": 89,
   "id": "fc7f00a0",
   "metadata": {},
   "outputs": [
    {
     "data": {
      "text/plain": [
       "array([[ 1024.5    ,  3731.625  ,  6031.75   ,  7977.875  , 10230.     ],\n",
       "       [  654.     ,  2194.5    ,  3417.     ,  4473.5    ,  5619.     ],\n",
       "       [  598.     ,  2160.75   ,  3480.5    ,  4598.25   ,  5886.     ],\n",
       "       [ 2197.375  ,  8051.53125, 13047.6875 , 17271.84375, 22176.     ],\n",
       "       [  861.     ,  3091.     ,  4960.     ,  6519.     ,  8344.     ]])"
      ]
     },
     "execution_count": 89,
     "metadata": {},
     "output_type": "execute_result"
    }
   ],
   "source": [
    "A@K"
   ]
  },
  {
   "cell_type": "code",
   "execution_count": 98,
   "id": "482c888d",
   "metadata": {},
   "outputs": [
    {
     "data": {
      "text/plain": [
       "array([[ 1.  ,  3.  ,  5.  ,  7.  ,  9.  ],\n",
       "       [ 3.  ,  5.  ,  4.  ,  5.  ,  2.  ],\n",
       "       [ 1.  ,  2.  ,  3.  ,  4.  ,  5.  ],\n",
       "       [ 1.  ,  5.75, 10.5 , 15.25, 20.  ],\n",
       "       [ 1.  ,  4.  ,  6.  ,  4.  ,  7.  ]])"
      ]
     },
     "execution_count": 98,
     "metadata": {},
     "output_type": "execute_result"
    }
   ],
   "source": [
    "np.dot(A,I)"
   ]
  },
  {
   "cell_type": "code",
   "execution_count": 99,
   "id": "2f599b89",
   "metadata": {},
   "outputs": [
    {
     "data": {
      "text/plain": [
       "array([[ 1.  ,  3.  ,  5.  ,  7.  ,  9.  ],\n",
       "       [ 3.  ,  5.  ,  4.  ,  5.  ,  2.  ],\n",
       "       [ 1.  ,  2.  ,  3.  ,  4.  ,  5.  ],\n",
       "       [ 1.  ,  5.75, 10.5 , 15.25, 20.  ],\n",
       "       [ 1.  ,  4.  ,  6.  ,  4.  ,  7.  ]])"
      ]
     },
     "execution_count": 99,
     "metadata": {},
     "output_type": "execute_result"
    }
   ],
   "source": [
    "A@I"
   ]
  },
  {
   "cell_type": "markdown",
   "id": "c48956e5",
   "metadata": {},
   "source": [
    "To create a matrix of random integers in Python, randint() function of the numpy module is used. This function is used for random sampling i.e. all the numbers generated will be at random and cannot be predicted at hand.\n",
    "\n",
    "$Syntax :  numpy.random.randint(low, high=None, size=None, dtype=’l’)$\n",
    "\n",
    "low : [int] Lowest (signed) integer to be drawn from the distribution.But, it works as a highest integer in the sample if high=None.\n",
    " \n",
    "high : [int, optional] Largest (signed) integer to be drawn from the distribution.\n",
    " \n",
    "size : [int or tuple of ints, optional] Output shape. If the given shape is, e.g., (m, n, k), then m * n * k samples are drawn. Default is None, in which case a single value is returned.\n",
    " \n",
    "dtype : [optional] Desired output data-type.\n",
    "Return : Array of random integers in the interval [low, high) or a single such random int if size not provided."
   ]
  },
  {
   "cell_type": "code",
   "execution_count": 101,
   "id": "052bd1f8",
   "metadata": {},
   "outputs": [],
   "source": [
    "TA = np.random.randint(10, size=(2, 2))"
   ]
  },
  {
   "cell_type": "code",
   "execution_count": 103,
   "id": "9bec8bb6",
   "metadata": {},
   "outputs": [],
   "source": [
    "TB = np.random.randint(10, size=(2, 2))"
   ]
  },
  {
   "cell_type": "code",
   "execution_count": 104,
   "id": "94249752",
   "metadata": {},
   "outputs": [
    {
     "data": {
      "text/plain": [
       "array([[1, 6],\n",
       "       [1, 5]])"
      ]
     },
     "execution_count": 104,
     "metadata": {},
     "output_type": "execute_result"
    }
   ],
   "source": [
    "TB"
   ]
  },
  {
   "cell_type": "code",
   "execution_count": null,
   "id": "bf15b78c",
   "metadata": {},
   "outputs": [],
   "source": []
  }
 ],
 "metadata": {
  "kernelspec": {
   "display_name": "Python 3 (ipykernel)",
   "language": "python",
   "name": "python3"
  },
  "language_info": {
   "codemirror_mode": {
    "name": "ipython",
    "version": 3
   },
   "file_extension": ".py",
   "mimetype": "text/x-python",
   "name": "python",
   "nbconvert_exporter": "python",
   "pygments_lexer": "ipython3",
   "version": "3.9.12"
  }
 },
 "nbformat": 4,
 "nbformat_minor": 5
}
